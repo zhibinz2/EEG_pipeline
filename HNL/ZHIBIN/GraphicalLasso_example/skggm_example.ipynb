{
 "cells": [
  {
   "cell_type": "code",
   "execution_count": 1,
   "metadata": {},
   "outputs": [
    {
     "name": "stderr",
     "output_type": "stream",
     "text": [
      "/home/zhibinz2/anaconda3/envs/eeg/lib/python3.9/site-packages/sklearn/utils/multiclass.py:13: DeprecationWarning: Please use `spmatrix` from the `scipy.sparse` namespace, the `scipy.sparse.base` namespace is deprecated.\n",
      "  from scipy.sparse.base import spmatrix\n",
      "/home/zhibinz2/anaconda3/envs/eeg/lib/python3.9/site-packages/sklearn/linear_model/least_angle.py:30: DeprecationWarning: `np.float` is a deprecated alias for the builtin `float`. To silence this warning, use `float` by itself. Doing this will not modify any behavior and is safe. If you specifically wanted the numpy scalar type, use `np.float64` here.\n",
      "Deprecated in NumPy 1.20; for more details and guidance: https://numpy.org/devdocs/release/1.20.0-notes.html#deprecations\n",
      "  method='lar', copy_X=True, eps=np.finfo(np.float).eps,\n",
      "/home/zhibinz2/anaconda3/envs/eeg/lib/python3.9/site-packages/sklearn/linear_model/least_angle.py:167: DeprecationWarning: `np.float` is a deprecated alias for the builtin `float`. To silence this warning, use `float` by itself. Doing this will not modify any behavior and is safe. If you specifically wanted the numpy scalar type, use `np.float64` here.\n",
      "Deprecated in NumPy 1.20; for more details and guidance: https://numpy.org/devdocs/release/1.20.0-notes.html#deprecations\n",
      "  method='lar', copy_X=True, eps=np.finfo(np.float).eps,\n",
      "/home/zhibinz2/anaconda3/envs/eeg/lib/python3.9/site-packages/sklearn/linear_model/least_angle.py:284: DeprecationWarning: `np.float` is a deprecated alias for the builtin `float`. To silence this warning, use `float` by itself. Doing this will not modify any behavior and is safe. If you specifically wanted the numpy scalar type, use `np.float64` here.\n",
      "Deprecated in NumPy 1.20; for more details and guidance: https://numpy.org/devdocs/release/1.20.0-notes.html#deprecations\n",
      "  eps=np.finfo(np.float).eps, copy_Gram=True, verbose=0,\n",
      "/home/zhibinz2/anaconda3/envs/eeg/lib/python3.9/site-packages/sklearn/linear_model/least_angle.py:862: DeprecationWarning: `np.float` is a deprecated alias for the builtin `float`. To silence this warning, use `float` by itself. Doing this will not modify any behavior and is safe. If you specifically wanted the numpy scalar type, use `np.float64` here.\n",
      "Deprecated in NumPy 1.20; for more details and guidance: https://numpy.org/devdocs/release/1.20.0-notes.html#deprecations\n",
      "  eps=np.finfo(np.float).eps, copy_X=True, fit_path=True,\n",
      "/home/zhibinz2/anaconda3/envs/eeg/lib/python3.9/site-packages/sklearn/linear_model/least_angle.py:1101: DeprecationWarning: `np.float` is a deprecated alias for the builtin `float`. To silence this warning, use `float` by itself. Doing this will not modify any behavior and is safe. If you specifically wanted the numpy scalar type, use `np.float64` here.\n",
      "Deprecated in NumPy 1.20; for more details and guidance: https://numpy.org/devdocs/release/1.20.0-notes.html#deprecations\n",
      "  eps=np.finfo(np.float).eps, copy_X=True, fit_path=True,\n",
      "/home/zhibinz2/anaconda3/envs/eeg/lib/python3.9/site-packages/sklearn/linear_model/least_angle.py:1127: DeprecationWarning: `np.float` is a deprecated alias for the builtin `float`. To silence this warning, use `float` by itself. Doing this will not modify any behavior and is safe. If you specifically wanted the numpy scalar type, use `np.float64` here.\n",
      "Deprecated in NumPy 1.20; for more details and guidance: https://numpy.org/devdocs/release/1.20.0-notes.html#deprecations\n",
      "  eps=np.finfo(np.float).eps, positive=False):\n",
      "/home/zhibinz2/anaconda3/envs/eeg/lib/python3.9/site-packages/sklearn/linear_model/least_angle.py:1362: DeprecationWarning: `np.float` is a deprecated alias for the builtin `float`. To silence this warning, use `float` by itself. Doing this will not modify any behavior and is safe. If you specifically wanted the numpy scalar type, use `np.float64` here.\n",
      "Deprecated in NumPy 1.20; for more details and guidance: https://numpy.org/devdocs/release/1.20.0-notes.html#deprecations\n",
      "  max_n_alphas=1000, n_jobs=None, eps=np.finfo(np.float).eps,\n",
      "/home/zhibinz2/anaconda3/envs/eeg/lib/python3.9/site-packages/sklearn/linear_model/least_angle.py:1602: DeprecationWarning: `np.float` is a deprecated alias for the builtin `float`. To silence this warning, use `float` by itself. Doing this will not modify any behavior and is safe. If you specifically wanted the numpy scalar type, use `np.float64` here.\n",
      "Deprecated in NumPy 1.20; for more details and guidance: https://numpy.org/devdocs/release/1.20.0-notes.html#deprecations\n",
      "  max_n_alphas=1000, n_jobs=None, eps=np.finfo(np.float).eps,\n",
      "/home/zhibinz2/anaconda3/envs/eeg/lib/python3.9/site-packages/sklearn/linear_model/least_angle.py:1738: DeprecationWarning: `np.float` is a deprecated alias for the builtin `float`. To silence this warning, use `float` by itself. Doing this will not modify any behavior and is safe. If you specifically wanted the numpy scalar type, use `np.float64` here.\n",
      "Deprecated in NumPy 1.20; for more details and guidance: https://numpy.org/devdocs/release/1.20.0-notes.html#deprecations\n",
      "  eps=np.finfo(np.float).eps, copy_X=True, positive=False):\n",
      "/home/zhibinz2/anaconda3/envs/eeg/lib/python3.9/site-packages/sklearn/utils/optimize.py:18: DeprecationWarning: Please use `line_search_wolfe2` from the `scipy.optimize` namespace, the `scipy.optimize.linesearch` namespace is deprecated.\n",
      "  from scipy.optimize.linesearch import line_search_wolfe2, line_search_wolfe1\n",
      "/home/zhibinz2/anaconda3/envs/eeg/lib/python3.9/site-packages/sklearn/utils/optimize.py:18: DeprecationWarning: Please use `line_search_wolfe1` from the `scipy.optimize` namespace, the `scipy.optimize.linesearch` namespace is deprecated.\n",
      "  from scipy.optimize.linesearch import line_search_wolfe2, line_search_wolfe1\n"
     ]
    }
   ],
   "source": [
    "# load modules\n",
    "from os import listdir\n",
    "\n",
    "from hdf5storage import loadmat, savemat \n",
    "import numpy as np \n",
    "from matplotlib import pyplot as plt\n",
    "\n",
    "from scipy import signal \n",
    "from scipy.fftpack import fft\n",
    "from scipy import stats # for zscoring\n",
    "\n",
    "from sklearn.preprocessing import StandardScaler\n",
    "from sklearn.covariance import GraphicalLassoCV"
   ]
  },
  {
   "cell_type": "code",
   "execution_count": 2,
   "metadata": {},
   "outputs": [
    {
     "name": "stdout",
     "output_type": "stream",
     "text": [
      "The scikit-learn version is 0.21.3.\n"
     ]
    }
   ],
   "source": [
    "# sklearn version\n",
    "import sklearn\n",
    "print('The scikit-learn version is {}.'.format(sklearn.__version__))\n",
    "# confirm that it is version 0.21.3\n"
   ]
  },
  {
   "cell_type": "code",
   "execution_count": 3,
   "metadata": {},
   "outputs": [],
   "source": [
    "import sys\n",
    "sys.path.append(\"/home/zhibinz2/Documents/GitHub/skggm/inverse_covariance/\")"
   ]
  },
  {
   "cell_type": "code",
   "execution_count": 4,
   "metadata": {},
   "outputs": [
    {
     "name": "stderr",
     "output_type": "stream",
     "text": [
      "/home/zhibinz2/anaconda3/envs/eeg/lib/python3.9/site-packages/sklearn/externals/joblib/__init__.py:15: DeprecationWarning: sklearn.externals.joblib is deprecated in 0.21 and will be removed in 0.23. Please import this functionality directly from joblib, which can be installed with: pip install joblib. If this warning is raised when loading pickled models, you may need to re-serialize those models with scikit-learn 0.21+.\n",
      "  warnings.warn(msg, category=DeprecationWarning)\n"
     ]
    }
   ],
   "source": [
    "# add this repo to your path (https://github.com/skggm/skggm) （ I'm adding my fork https://github.com/zhibinz2/skggm in the following)\n",
    "import sys\n",
    "sys.path.append(\"/home/zhibinz2/Documents/GitHub/skggm/inverse_covariance/\")\n",
    "from inverse_covariance import (\n",
    "    QuicGraphicalLasso,\n",
    "    QuicGraphicalLassoCV,\n",
    "    QuicGraphicalLassoEBIC,\n",
    "    AdaptiveGraphicalLasso,\n",
    "    ModelAverage,\n",
    ")\n"
   ]
  },
  {
   "cell_type": "code",
   "execution_count": 5,
   "metadata": {},
   "outputs": [],
   "source": [
    "# skggm (function for computing partial correlation of amplitude)\n",
    "def partialcorrelation(ampdata,ncv=2):\n",
    "    # pc_lasso = GraphicalLassoCV(cv=ncv)\n",
    "    modelquic = QuicGraphicalLassoCV(\n",
    "        cv=2,  # cant deal w more folds at small size\n",
    "        n_refinements=6,\n",
    "        n_jobs=6,\n",
    "        init_method=\"cov\"\n",
    "    )\n",
    "    \n",
    "\n",
    "    nbin = np.shape(ampdata)[1]\n",
    "    nchan = np.shape(ampdata)[2]\n",
    "    pcorr = np.zeros((nbin,nchan,nchan))\n",
    "    # alphas = np.zeros(nbin)\n",
    "    covmat_corr = np.zeros((nbin,nchan,nchan))\n",
    "    for f in range(1,nbin): # one frequency at a time\n",
    "        xx= np.abs(np.squeeze(ampdata[:,f-1,:]))\n",
    "        modelquic.fit(xx)\n",
    "\n",
    "        # covariance = pc_lasso.covariance_\n",
    "        covariance = modelquic.covariance_\n",
    "        \n",
    "        # precision = pc_lasso.precision_\n",
    "        precision = modelquic.precision_\n",
    "        \n",
    "        # alphas[f] = pc_lasso.alpha_\n",
    "        # alphas[f] = modelquic.alpha_\n",
    "\n",
    "        parcor = np.zeros((32,32))\n",
    "        y = np.diag(precision)\n",
    "        yy = np.outer(y,y)\n",
    "        yy = np.sqrt(yy)\n",
    "        parcor = precision/yy\n",
    "        pcorr[f,:,:] = parcor\n",
    "\n",
    "        y = np.diag(covariance)\n",
    "        yy = np.outer(y,y)\n",
    "        yy = np.sqrt(yy)\n",
    "        parcor_cov = covariance/yy        \n",
    "        covmat_corr[f,:,:] = parcor_cov \n",
    "    return pcorr,covmat_corr #,alphas  "
   ]
  },
  {
   "cell_type": "code",
   "execution_count": 6,
   "metadata": {},
   "outputs": [],
   "source": [
    "# load an example EEG  data\n",
    "outdict=loadmat('trialdata.mat')\n",
    "trialdata=outdict['trialdata'] # trialdata is 10 epochs of 2000 samples (1 second) by 32 channel EEG data\n"
   ]
  },
  {
   "cell_type": "code",
   "execution_count": 8,
   "metadata": {},
   "outputs": [],
   "source": [
    "# skggm (function for computing partial coherence)\n",
    "def partialcoherence(fceof,ncv=2):\n",
    "    # pc_lasso = GraphicalLassoCV(cv=ncv)\n",
    "    modelquic = QuicGraphicalLassoCV(\n",
    "        cv=2,  # cant deal w more folds at small size\n",
    "        n_refinements=6,\n",
    "        n_jobs=6,\n",
    "        init_method=\"cov\"\n",
    "    )\n",
    "    \n",
    "\n",
    "    nbin = np.shape(fceof)[1]\n",
    "    nchan = np.shape(fceof)[2]\n",
    "    pcoh = np.zeros((nbin,nchan,nchan))\n",
    "    # alphas = np.zeros(nbin)\n",
    "    covmat_coh = np.zeros((nbin,nchan,nchan))\n",
    "    for f in range(1,nbin): # one frequency at a time\n",
    "        xx= np.squeeze(fceof[:,f-1,:])\n",
    "        modelquic.fit(xx)\n",
    "\n",
    "        # covariance = pc_lasso.covariance_\n",
    "        covariance = modelquic.covariance_\n",
    "        \n",
    "        # precision = pc_lasso.precision_\n",
    "        precision = modelquic.precision_\n",
    "        \n",
    "        # alphas[f] = pc_lasso.alpha_\n",
    "        # alphas[f] = modelquic.alpha_\n",
    "\n",
    "        parcoh = np.zeros((32,32))\n",
    "        y = np.diag(precision)\n",
    "        yy = np.outer(y,y)\n",
    "        yy = np.sqrt(yy)\n",
    "        parcoh = precision/yy\n",
    "        pcoh[f,:,:] = parcoh\n",
    "\n",
    "        y = np.diag(covariance)\n",
    "        yy = np.outer(y,y)\n",
    "        yy = np.sqrt(yy)\n",
    "        parcor_cov = covariance/yy        \n",
    "        covmat_coh[f,:,:] = parcor_cov \n",
    "    return pcoh,covmat_coh #,alphas  "
   ]
  },
  {
   "cell_type": "code",
   "execution_count": 9,
   "metadata": {},
   "outputs": [
    {
     "ename": "ValueError",
     "evalue": "Complex data not supported\n[[-1.23763643e+00+6.62948634e-01j -2.04643361e+00+2.33226114e-01j\n  -1.85440355e+00+2.81633206e-01j -1.36545053e+00+7.28634713e-01j\n  -4.67945226e-02-2.11266058e-02j -1.38957635e-01+2.19755322e-01j\n   3.63985481e-01+6.16085642e-02j  4.62013306e-01+9.66743310e-01j\n  -3.37052294e-01-2.14533006e-01j -1.24803628e+00+2.83443368e-01j\n   3.73934534e-01+1.98939724e-02j  6.33714891e-01-3.05329960e-02j\n  -6.06013286e-01-3.10599269e-01j  2.16479518e+00-7.90629951e-01j\n  -4.98571085e-01+7.07272158e-02j  3.04146476e-01+3.62912259e-02j\n  -1.64884050e-01+1.83233337e-01j  7.70277004e-01-5.16675902e-02j\n   1.57933559e-02+9.01744666e-02j -4.04402789e-01+4.32307878e-02j\n   2.67094522e-01-4.62121085e-02j -5.62816710e-01+8.09835424e-03j\n   2.59058426e-02+1.65919279e-01j -4.87941109e-01-2.94988799e-01j\n   3.35200896e-01-8.42559668e-02j  5.19470374e-01-3.27713755e-02j\n  -4.29334304e-01+1.01393783e-01j  8.44573497e-02+9.22755277e-02j\n   4.97444102e-01+3.87370943e-02j  6.13076266e-01-6.00511275e-01j\n   5.62286018e-01-1.37820605e-02j  3.43513260e+00-1.79635727e+00j]\n [-1.53500093e+00+3.79403414e-01j -8.43221236e-01+1.35364230e-01j\n  -5.81084816e-01-2.17511586e-01j -7.37158011e-01-7.94280846e-02j\n   6.02584440e-01-5.36853148e-01j -3.16519857e-01-1.81468075e-01j\n   7.11509509e-01-4.88554510e-01j -2.15734565e-01+4.46162664e-01j\n   1.83137450e-01-3.24632629e-01j -1.13222779e+00+5.89033410e-01j\n  -2.49446163e-01+1.89213871e-01j  1.14219154e+00+2.60595236e-01j\n   7.12157676e-01-4.45029799e-01j  3.25279765e+00-1.40575159e+00j\n  -5.97769473e-01+3.07349043e-01j -4.80945134e-01+2.75896506e-01j\n  -2.30056492e-02-3.45669171e-02j  1.37537812e+00-5.57962573e-01j\n   2.81575423e-01-1.09061550e-01j -5.50121224e-01+2.50770231e-01j\n  -3.03933661e-01+3.46419390e-01j -6.25338199e-01+3.60008680e-01j\n   5.20467925e-01-1.27311545e-02j  6.59194255e-01-3.78461055e-01j\n  -2.77593927e-01+4.35241126e-01j -3.69902569e-01+2.75457559e-01j\n  -5.94425316e-01+4.16949655e-01j  2.99473589e-01+1.71576340e-02j\n  -4.28133414e-01+2.49596036e-01j  1.38589048e-01-2.69288094e-01j\n  -4.91190509e-01+3.33194694e-01j  4.73695816e-01-2.26512610e-01j]\n [-8.68160116e-01+4.58337881e-01j -7.08456534e-01-2.60175805e-02j\n   3.37701864e-01-1.77164136e-01j  1.70683800e-01+4.68014372e-01j\n  -4.93029857e-02-1.23786397e-01j -8.91806723e-02-1.17012504e-01j\n   1.02265844e+00-3.67347064e-01j -2.24596975e-01+1.09414468e+00j\n  -1.63606229e-01+1.66571251e-01j -1.64023941e+00+1.09797917e-02j\n   4.14285432e-01-1.77800425e-01j  1.02076274e+00-7.91563923e-01j\n   9.51164906e-01-2.08559033e-01j  2.28651297e+00-1.11398337e+00j\n  -4.06075130e-01+2.03928538e-01j -9.97171659e-02+7.81729085e-02j\n  -1.15406012e-01-2.41863852e-01j  9.01010733e-02-8.70511541e-01j\n   1.50034748e-01-2.38906828e-01j -3.22544332e-01+2.51700568e-01j\n  -2.51509651e-01+8.96629010e-03j -2.36317108e-01-1.11818834e-01j\n  -1.28578778e-01-2.70995163e-01j  1.06064939e+00-7.55260408e-02j\n  -1.39623049e-01+3.47795923e-02j  8.10403061e-02+2.85470934e-02j\n  -1.71638146e-01-7.01408298e-02j -6.07233433e-02-3.30122121e-01j\n   1.37880274e-01+7.66805705e-02j  1.74294227e-01+1.33130773e-01j\n   5.28266910e-02+6.35562961e-02j -2.27492122e+00+2.23560903e+00j]\n [-1.75931723e+00+8.06470500e-01j  7.76026308e-01+4.32428318e-01j\n   1.52894174e+00+3.64889341e-01j -3.95514371e-01+1.09697473e+00j\n   1.80028543e+00-4.12222661e-01j  9.92585972e-01-5.51134056e-01j\n   1.48549162e+00-9.58668165e-01j -1.35310130e+00+1.65228192e-01j\n   2.15248923e-02+1.08942896e-01j -6.35529856e-01+7.74240333e-02j\n   6.14459816e-01-7.27397825e-01j  4.07498672e-01-5.11194714e-01j\n   5.16800274e-01+6.30718189e-01j  3.27210905e+00+3.57044053e-01j\n   1.07780780e-01+1.71129134e-01j  4.56689751e-01-4.88436975e-01j\n   2.11916457e-01-4.92488469e-01j  8.73094512e-01-4.45228236e-01j\n  -2.73502278e-02-1.10318011e-01j  1.90203203e-01+2.34387735e-01j\n   3.37905884e-01-2.21860163e-01j  8.26653011e-02-3.70776181e-01j\n   1.84547679e-01-2.31339908e-01j  4.76123989e-01+7.39060888e-01j\n   5.22413269e-01-1.47998930e-01j  5.48356004e-01-3.70421223e-01j\n   7.08531097e-02-2.49665822e-01j  5.13361733e-02-2.15545639e-01j\n   4.12977356e-01-3.50626405e-01j -9.35275166e-01+3.80597125e-01j\n   3.60746426e-01-3.67753499e-01j -1.11972455e+01+1.65778175e+00j]\n [-8.04358502e-01+1.03882372e-01j -5.45981286e-01-4.59592836e-01j\n  -1.13026429e-01-3.84511318e-01j  2.40224014e-01-2.63680516e-01j\n   1.26532976e+00-1.29119302e-01j  4.90098728e-01-2.43019345e-02j\n   7.53767537e-01+1.65315464e-01j -3.42049162e-02+4.93750051e-01j\n   1.75476848e-01-3.77479276e-01j -8.38413369e-01-1.43084985e-01j\n  -1.81347473e-01+1.37918021e-01j  4.63809857e-02+4.17029607e-01j\n  -4.07734539e-01-2.29648271e-01j  3.42734259e+00-6.90451799e-03j\n  -2.42793169e-01-1.59691592e-01j -2.24246937e-01+6.62126996e-03j\n  -5.41916481e-01-4.75520598e-02j  1.48415154e+00+1.96863719e-01j\n  -7.37952952e-01-2.86551353e-01j -2.06638352e-01-1.34271655e-01j\n  -3.37588053e-01+7.01604376e-02j -4.22224935e-01-1.09914038e-01j\n  -6.98680651e-01-1.70306154e-01j -4.14414301e-01-1.90505491e-01j\n  -2.32846275e-01+2.59543902e-02j -2.27046691e-01-2.82273472e-02j\n  -4.97093576e-01-2.09038962e-01j -7.34948658e-01-1.68766378e-01j\n  -1.97969666e-01+1.71265835e-02j -7.35891484e-02+8.28255731e-03j\n  -2.51851407e-01+3.47177530e-02j  1.08409577e+00+1.84552576e+00j]\n [-9.15793719e-01+2.18176337e-01j -9.68908994e-01-7.94976474e-02j\n  -6.55208439e-01+5.11062323e-01j -3.67171549e-01+5.80088903e-01j\n  -8.70251123e-02+3.20176835e-01j -2.91287469e-01-1.08196552e-01j\n   1.35877647e-01+2.77422805e-01j  5.78543808e-02+6.83157025e-02j\n  -2.07576225e-01+5.36582788e-02j -2.02988705e+00-4.00684864e-01j\n  -4.65457558e-03-1.11053691e-01j  3.21549595e-01+1.78486352e-01j\n   1.00589037e+00+3.96437462e-01j  4.65504309e+00+6.60534228e-01j\n  -1.27836532e+00-2.68705528e-01j -6.28257467e-01-4.15396920e-01j\n  -4.24558514e-01-8.33810465e-02j  2.36541482e+00+4.40045110e-01j\n  -3.51608116e-01+2.36626518e-02j -8.78933562e-01-2.81574701e-01j\n  -7.12196407e-01-5.67339539e-01j -6.84453866e-01-3.73220229e-01j\n  -2.68188817e-01-6.83910106e-02j  1.02322393e+00+3.88091544e-01j\n  -7.75934871e-01-5.39093073e-01j -5.34878098e-01-4.17443998e-01j\n  -7.54780084e-01-2.98154583e-01j -2.88485550e-01-3.49907469e-02j\n  -6.73105161e-01-3.67519383e-01j  1.47388932e+00+3.74150151e-02j\n  -6.17757569e-01-4.52808285e-01j  3.36027338e+00+7.13878253e-01j]\n [-1.50490947e+00-5.71609782e-01j -1.90677500e-01-1.23068059e-01j\n   3.09913743e-01+1.76686155e-01j  1.27353155e-01-3.01245943e-01j\n   4.14636515e-01+1.42787105e-01j -2.17189155e-01-4.99402816e-02j\n   2.89421546e-01+5.50873493e-01j  8.39801755e-03-2.81172152e-01j\n   2.05348647e-01+1.20808784e-01j -1.52864953e+00-2.41826586e-01j\n  -3.04759875e-01-3.82600355e-02j  8.70988234e-01+4.49687786e-01j\n   1.59423064e+00+2.84073959e-01j  4.60982581e+00+8.15205656e-01j\n  -4.78090391e-01+1.21771755e-01j -8.15364181e-01-5.33740276e-02j\n  -5.96763006e-01-1.94314031e-01j  1.59245471e+00-1.41467509e-01j\n  -4.29126314e-01-1.77474458e-01j -4.75550471e-01+7.09039429e-02j\n  -7.12609523e-01+1.69028212e-03j -6.20795138e-01-1.05422099e-01j\n  -7.79994795e-01-2.55674105e-01j  1.38517097e+00+2.78623610e-01j\n  -6.02784189e-01+1.10598849e-01j -5.56071434e-01-2.42517114e-02j\n  -7.79782861e-01-3.32452760e-01j -6.93985016e-01-3.00423516e-01j\n  -5.63028959e-01-2.43760607e-03j  8.97985759e-01+2.10454783e-01j\n  -5.52124965e-01+3.65614024e-02j  9.65290427e-02-1.76312900e-01j]\n [-3.99191423e-01-6.54016128e-01j -5.29608458e-01+6.78774616e-02j\n   4.85172047e-01+1.07634596e-01j -1.29969078e+00-1.41672197e-01j\n   1.62783593e-01+9.18000227e-02j  2.65262642e-01-2.18315657e-01j\n   1.27205136e+00-2.13844449e-01j -7.03432081e-02+2.52969164e-01j\n  -5.83970293e-01+1.45106405e-01j -7.83432442e-01-2.96132035e-01j\n   6.09426256e-01-9.28063228e-02j  1.46928879e+00+1.63032292e-01j\n  -6.99760384e-01+2.98307579e-01j  2.68041252e+00+1.26245538e+00j\n  -2.59057625e-01-3.05452454e-02j -2.82776628e-01-1.79527633e-01j\n   5.15471084e-01+2.58104137e-03j  1.78627814e+00+1.88291065e-01j\n   1.63242341e-01-2.92771576e-02j -1.66098031e-01+4.02742742e-02j\n  -5.02365427e-01-1.57834705e-01j -4.34604127e-01-2.17301755e-01j\n   2.98562631e-01-7.71841043e-02j -6.79784261e-01+2.37355729e-01j\n  -4.72076172e-01-1.77707331e-01j -2.58605657e-01-1.62538100e-01j\n  -4.47709076e-01-2.13090405e-01j  3.13448330e-01-4.25517098e-02j\n  -2.94357643e-01-1.83200311e-01j -1.13929044e+00+3.18198673e-01j\n  -2.97089472e-01-1.03829630e-01j -4.21588195e-01+1.54911933e-02j]\n [ 9.69703778e-03-3.76210203e-01j  2.66003866e-01+2.76993655e-01j\n   6.67799114e-01+4.30140807e-01j  1.38454019e+00-4.49340027e-02j\n  -3.09369494e-01+4.80451070e-01j -9.73128452e-02+2.44050819e-01j\n  -4.08697830e-01+1.25320601e-01j  3.27931182e+00+1.38557551e+00j\n  -5.42849852e-01-2.76322754e-02j -9.83417612e-01-1.88020656e-01j\n  -2.86067385e-01+3.34611730e-01j  7.06586443e-01-9.72447613e-02j\n   1.32344246e+00-5.75976425e-02j  1.10613978e+00+7.52911123e-02j\n  -2.05085011e-01+9.87580502e-02j -5.85911916e-01+7.61729680e-02j\n  -4.01835168e-01+4.29394534e-02j  6.38915879e-01-2.48532708e-01j\n  -3.08809965e-01-1.07949070e-01j -1.02764858e-01+1.14041871e-01j\n  -3.82229581e-01-8.56407444e-02j -3.70701560e-01+2.03233907e-01j\n  -4.49393553e-01-1.84395749e-02j  1.22885814e+00+9.39844793e-02j\n  -1.20833339e-01-1.71317973e-01j -3.01842553e-01-4.45824148e-02j\n  -3.59144677e-01+7.93910543e-02j -4.92504312e-01+3.17718762e-02j\n  -2.81166863e-01-3.85586250e-02j -4.27505186e-01-6.04598081e-01j\n  -3.14567242e-01-6.86592030e-02j -2.87928392e+00-1.91281103e+00j]\n [ 3.45132476e-03-1.59913346e-01j  3.30147857e-01-1.59339288e-01j\n  -1.56721730e-01+3.41304667e-01j -7.00778314e-01+7.53096173e-01j\n  -6.54805115e-01+5.13337530e-01j -2.83870836e-01+4.67581093e-02j\n  -6.03312671e-01+7.57691263e-02j  1.31975392e+00+2.49702162e-01j\n  -4.54464074e-01+5.02112804e-01j -3.39009113e-02-3.54601907e-01j\n  -1.89050943e-02-2.48409673e-01j -5.55906202e-01+1.75149054e-01j\n   1.34473677e+00+3.83041044e-02j -1.50889680e+00+2.25867441e+00j\n  -3.23851039e-01+2.28934119e-02j  4.40449526e-02-2.35485440e-01j\n   5.13736996e-02-3.74912115e-01j -6.88673796e-01+1.00337069e+00j\n   1.44486415e-01-2.42548054e-01j -1.22860992e-01+8.68512914e-02j\n   3.35924625e-01-3.40696742e-01j  2.63651169e-01-6.72933197e-01j\n   1.36039928e-02-2.68759475e-01j  9.91530419e-01-1.49145017e-01j\n   6.50652812e-01-3.81807511e-01j  3.36573816e-01-2.61677218e-01j\n   3.49738705e-01-7.67346326e-01j  1.40881582e-01-2.58020292e-01j\n   3.31446817e-01-3.46717069e-01j  6.20751354e-01-3.31997300e-01j\n   3.15547930e-01-2.66973966e-01j -1.48135058e+00-2.46039596e-01j]]\n",
     "output_type": "error",
     "traceback": [
      "\u001b[0;31m---------------------------------------------------------------------------\u001b[0m",
      "\u001b[0;31mValueError\u001b[0m                                Traceback (most recent call last)",
      "\u001b[0;32m/tmp/ipykernel_3839633/491493733.py\u001b[0m in \u001b[0;36m<module>\u001b[0;34m\u001b[0m\n\u001b[1;32m     15\u001b[0m \u001b[0;34m\u001b[0m\u001b[0m\n\u001b[1;32m     16\u001b[0m \u001b[0;31m# Run graphical lasso for each frequency\u001b[0m\u001b[0;34m\u001b[0m\u001b[0;34m\u001b[0m\u001b[0m\n\u001b[0;32m---> 17\u001b[0;31m \u001b[0mpcoh\u001b[0m\u001b[0;34m,\u001b[0m\u001b[0mcovmat_coh\u001b[0m \u001b[0;34m=\u001b[0m \u001b[0mpartialcoherence\u001b[0m\u001b[0;34m(\u001b[0m\u001b[0mfcoef\u001b[0m\u001b[0;34m,\u001b[0m\u001b[0mncv\u001b[0m\u001b[0;34m=\u001b[0m\u001b[0;36m2\u001b[0m\u001b[0;34m)\u001b[0m\u001b[0;34m\u001b[0m\u001b[0;34m\u001b[0m\u001b[0m\n\u001b[0m\u001b[1;32m     18\u001b[0m \u001b[0;31m# pcoh is partial coherence (precision matrix)\u001b[0m\u001b[0;34m\u001b[0m\u001b[0;34m\u001b[0m\u001b[0m\n\u001b[1;32m     19\u001b[0m \u001b[0;31m# covmat_coh is covariance matrix\u001b[0m\u001b[0;34m\u001b[0m\u001b[0;34m\u001b[0m\u001b[0m\n",
      "\u001b[0;32m/tmp/ipykernel_3839633/3964879137.py\u001b[0m in \u001b[0;36mpartialcoherence\u001b[0;34m(fceof, ncv)\u001b[0m\n\u001b[1;32m     17\u001b[0m     \u001b[0;32mfor\u001b[0m \u001b[0mf\u001b[0m \u001b[0;32min\u001b[0m \u001b[0mrange\u001b[0m\u001b[0;34m(\u001b[0m\u001b[0;36m1\u001b[0m\u001b[0;34m,\u001b[0m\u001b[0mnbin\u001b[0m\u001b[0;34m)\u001b[0m\u001b[0;34m:\u001b[0m \u001b[0;31m# one frequency at a time\u001b[0m\u001b[0;34m\u001b[0m\u001b[0;34m\u001b[0m\u001b[0m\n\u001b[1;32m     18\u001b[0m         \u001b[0mxx\u001b[0m\u001b[0;34m=\u001b[0m \u001b[0mnp\u001b[0m\u001b[0;34m.\u001b[0m\u001b[0msqueeze\u001b[0m\u001b[0;34m(\u001b[0m\u001b[0mfceof\u001b[0m\u001b[0;34m[\u001b[0m\u001b[0;34m:\u001b[0m\u001b[0;34m,\u001b[0m\u001b[0mf\u001b[0m\u001b[0;34m-\u001b[0m\u001b[0;36m1\u001b[0m\u001b[0;34m,\u001b[0m\u001b[0;34m:\u001b[0m\u001b[0;34m]\u001b[0m\u001b[0;34m)\u001b[0m\u001b[0;34m\u001b[0m\u001b[0;34m\u001b[0m\u001b[0m\n\u001b[0;32m---> 19\u001b[0;31m         \u001b[0mmodelquic\u001b[0m\u001b[0;34m.\u001b[0m\u001b[0mfit\u001b[0m\u001b[0;34m(\u001b[0m\u001b[0mxx\u001b[0m\u001b[0;34m)\u001b[0m\u001b[0;34m\u001b[0m\u001b[0;34m\u001b[0m\u001b[0m\n\u001b[0m\u001b[1;32m     20\u001b[0m \u001b[0;34m\u001b[0m\u001b[0m\n\u001b[1;32m     21\u001b[0m         \u001b[0;31m# covariance = pc_lasso.covariance_\u001b[0m\u001b[0;34m\u001b[0m\u001b[0;34m\u001b[0m\u001b[0m\n",
      "\u001b[0;32m~/anaconda3/envs/eeg/lib/python3.9/site-packages/inverse_covariance/quic_graph_lasso.py\u001b[0m in \u001b[0;36mfit\u001b[0;34m(self, X, y)\u001b[0m\n\u001b[1;32m    613\u001b[0m \u001b[0;34m\u001b[0m\u001b[0m\n\u001b[1;32m    614\u001b[0m         \u001b[0;31m# initialize\u001b[0m\u001b[0;34m\u001b[0m\u001b[0;34m\u001b[0m\u001b[0m\n\u001b[0;32m--> 615\u001b[0;31m         \u001b[0mX\u001b[0m \u001b[0;34m=\u001b[0m \u001b[0mcheck_array\u001b[0m\u001b[0;34m(\u001b[0m\u001b[0mX\u001b[0m\u001b[0;34m,\u001b[0m \u001b[0mensure_min_features\u001b[0m\u001b[0;34m=\u001b[0m\u001b[0;36m2\u001b[0m\u001b[0;34m,\u001b[0m \u001b[0mestimator\u001b[0m\u001b[0;34m=\u001b[0m\u001b[0mself\u001b[0m\u001b[0;34m)\u001b[0m\u001b[0;34m\u001b[0m\u001b[0;34m\u001b[0m\u001b[0m\n\u001b[0m\u001b[1;32m    616\u001b[0m         \u001b[0mX\u001b[0m \u001b[0;34m=\u001b[0m \u001b[0mas_float_array\u001b[0m\u001b[0;34m(\u001b[0m\u001b[0mX\u001b[0m\u001b[0;34m,\u001b[0m \u001b[0mcopy\u001b[0m\u001b[0;34m=\u001b[0m\u001b[0;32mFalse\u001b[0m\u001b[0;34m,\u001b[0m \u001b[0mforce_all_finite\u001b[0m\u001b[0;34m=\u001b[0m\u001b[0;32mFalse\u001b[0m\u001b[0;34m)\u001b[0m\u001b[0;34m\u001b[0m\u001b[0;34m\u001b[0m\u001b[0m\n\u001b[1;32m    617\u001b[0m \u001b[0;34m\u001b[0m\u001b[0m\n",
      "\u001b[0;32m~/anaconda3/envs/eeg/lib/python3.9/site-packages/sklearn/utils/validation.py\u001b[0m in \u001b[0;36mcheck_array\u001b[0;34m(array, accept_sparse, accept_large_sparse, dtype, order, copy, force_all_finite, ensure_2d, allow_nd, ensure_min_samples, ensure_min_features, warn_on_dtype, estimator)\u001b[0m\n\u001b[1;32m    503\u001b[0m         \u001b[0;31m# result is that np.array(..) produces an array of complex dtype\u001b[0m\u001b[0;34m\u001b[0m\u001b[0;34m\u001b[0m\u001b[0m\n\u001b[1;32m    504\u001b[0m         \u001b[0;31m# and we need to catch and raise exception for such cases.\u001b[0m\u001b[0;34m\u001b[0m\u001b[0;34m\u001b[0m\u001b[0m\n\u001b[0;32m--> 505\u001b[0;31m         \u001b[0m_ensure_no_complex_data\u001b[0m\u001b[0;34m(\u001b[0m\u001b[0marray\u001b[0m\u001b[0;34m)\u001b[0m\u001b[0;34m\u001b[0m\u001b[0;34m\u001b[0m\u001b[0m\n\u001b[0m\u001b[1;32m    506\u001b[0m \u001b[0;34m\u001b[0m\u001b[0m\n\u001b[1;32m    507\u001b[0m         \u001b[0;32mif\u001b[0m \u001b[0mensure_2d\u001b[0m\u001b[0;34m:\u001b[0m\u001b[0;34m\u001b[0m\u001b[0;34m\u001b[0m\u001b[0m\n",
      "\u001b[0;32m~/anaconda3/envs/eeg/lib/python3.9/site-packages/sklearn/utils/validation.py\u001b[0m in \u001b[0;36m_ensure_no_complex_data\u001b[0;34m(array)\u001b[0m\n\u001b[1;32m    326\u001b[0m     \u001b[0;32mif\u001b[0m \u001b[0mhasattr\u001b[0m\u001b[0;34m(\u001b[0m\u001b[0marray\u001b[0m\u001b[0;34m,\u001b[0m \u001b[0;34m'dtype'\u001b[0m\u001b[0;34m)\u001b[0m \u001b[0;32mand\u001b[0m \u001b[0marray\u001b[0m\u001b[0;34m.\u001b[0m\u001b[0mdtype\u001b[0m \u001b[0;32mis\u001b[0m \u001b[0;32mnot\u001b[0m \u001b[0;32mNone\u001b[0m\u001b[0;31m \u001b[0m\u001b[0;31m\\\u001b[0m\u001b[0;34m\u001b[0m\u001b[0;34m\u001b[0m\u001b[0m\n\u001b[1;32m    327\u001b[0m             \u001b[0;32mand\u001b[0m \u001b[0mhasattr\u001b[0m\u001b[0;34m(\u001b[0m\u001b[0marray\u001b[0m\u001b[0;34m.\u001b[0m\u001b[0mdtype\u001b[0m\u001b[0;34m,\u001b[0m \u001b[0;34m'kind'\u001b[0m\u001b[0;34m)\u001b[0m \u001b[0;32mand\u001b[0m \u001b[0marray\u001b[0m\u001b[0;34m.\u001b[0m\u001b[0mdtype\u001b[0m\u001b[0;34m.\u001b[0m\u001b[0mkind\u001b[0m \u001b[0;34m==\u001b[0m \u001b[0;34m\"c\"\u001b[0m\u001b[0;34m:\u001b[0m\u001b[0;34m\u001b[0m\u001b[0;34m\u001b[0m\u001b[0m\n\u001b[0;32m--> 328\u001b[0;31m         raise ValueError(\"Complex data not supported\\n\"\n\u001b[0m\u001b[1;32m    329\u001b[0m                          \"{}\\n\".format(array))\n\u001b[1;32m    330\u001b[0m \u001b[0;34m\u001b[0m\u001b[0m\n",
      "\u001b[0;31mValueError\u001b[0m: Complex data not supported\n[[-1.23763643e+00+6.62948634e-01j -2.04643361e+00+2.33226114e-01j\n  -1.85440355e+00+2.81633206e-01j -1.36545053e+00+7.28634713e-01j\n  -4.67945226e-02-2.11266058e-02j -1.38957635e-01+2.19755322e-01j\n   3.63985481e-01+6.16085642e-02j  4.62013306e-01+9.66743310e-01j\n  -3.37052294e-01-2.14533006e-01j -1.24803628e+00+2.83443368e-01j\n   3.73934534e-01+1.98939724e-02j  6.33714891e-01-3.05329960e-02j\n  -6.06013286e-01-3.10599269e-01j  2.16479518e+00-7.90629951e-01j\n  -4.98571085e-01+7.07272158e-02j  3.04146476e-01+3.62912259e-02j\n  -1.64884050e-01+1.83233337e-01j  7.70277004e-01-5.16675902e-02j\n   1.57933559e-02+9.01744666e-02j -4.04402789e-01+4.32307878e-02j\n   2.67094522e-01-4.62121085e-02j -5.62816710e-01+8.09835424e-03j\n   2.59058426e-02+1.65919279e-01j -4.87941109e-01-2.94988799e-01j\n   3.35200896e-01-8.42559668e-02j  5.19470374e-01-3.27713755e-02j\n  -4.29334304e-01+1.01393783e-01j  8.44573497e-02+9.22755277e-02j\n   4.97444102e-01+3.87370943e-02j  6.13076266e-01-6.00511275e-01j\n   5.62286018e-01-1.37820605e-02j  3.43513260e+00-1.79635727e+00j]\n [-1.53500093e+00+3.79403414e-01j -8.43221236e-01+1.35364230e-01j\n  -5.81084816e-01-2.17511586e-01j -7.37158011e-01-7.94280846e-02j\n   6.02584440e-01-5.36853148e-01j -3.16519857e-01-1.81468075e-01j\n   7.11509509e-01-4.88554510e-01j -2.15734565e-01+4.46162664e-01j\n   1.83137450e-01-3.24632629e-01j -1.13222779e+00+5.89033410e-01j\n  -2.49446163e-01+1.89213871e-01j  1.14219154e+00+2.60595236e-01j\n   7.12157676e-01-4.45029799e-01j  3.25279765e+00-1.40575159e+00j\n  -5.97769473e-01+3.07349043e-01j -4.80945134e-01+2.75896506e-01j\n  -2.30056492e-02-3.45669171e-02j  1.37537812e+00-5.57962573e-01j\n   2.81575423e-01-1.09061550e-01j -5.50121224e-01+2.50770231e-01j\n  -3.03933661e-01+3.46419390e-01j -6.25338199e-01+3.60008680e-01j\n   5.20467925e-01-1.27311545e-02j  6.59194255e-01-3.78461055e-01j\n  -2.77593927e-01+4.35241126e-01j -3.69902569e-01+2.75457559e-01j\n  -5.94425316e-01+4.16949655e-01j  2.99473589e-01+1.71576340e-02j\n  -4.28133414e-01+2.49596036e-01j  1.38589048e-01-2.69288094e-01j\n  -4.91190509e-01+3.33194694e-01j  4.73695816e-01-2.26512610e-01j]\n [-8.68160116e-01+4.58337881e-01j -7.08456534e-01-2.60175805e-02j\n   3.37701864e-01-1.77164136e-01j  1.70683800e-01+4.68014372e-01j\n  -4.93029857e-02-1.23786397e-01j -8.91806723e-02-1.17012504e-01j\n   1.02265844e+00-3.67347064e-01j -2.24596975e-01+1.09414468e+00j\n  -1.63606229e-01+1.66571251e-01j -1.64023941e+00+1.09797917e-02j\n   4.14285432e-01-1.77800425e-01j  1.02076274e+00-7.91563923e-01j\n   9.51164906e-01-2.08559033e-01j  2.28651297e+00-1.11398337e+00j\n  -4.06075130e-01+2.03928538e-01j -9.97171659e-02+7.81729085e-02j\n  -1.15406012e-01-2.41863852e-01j  9.01010733e-02-8.70511541e-01j\n   1.50034748e-01-2.38906828e-01j -3.22544332e-01+2.51700568e-01j\n  -2.51509651e-01+8.96629010e-03j -2.36317108e-01-1.11818834e-01j\n  -1.28578778e-01-2.70995163e-01j  1.06064939e+00-7.55260408e-02j\n  -1.39623049e-01+3.47795923e-02j  8.10403061e-02+2.85470934e-02j\n  -1.71638146e-01-7.01408298e-02j -6.07233433e-02-3.30122121e-01j\n   1.37880274e-01+7.66805705e-02j  1.74294227e-01+1.33130773e-01j\n   5.28266910e-02+6.35562961e-02j -2.27492122e+00+2.23560903e+00j]\n [-1.75931723e+00+8.06470500e-01j  7.76026308e-01+4.32428318e-01j\n   1.52894174e+00+3.64889341e-01j -3.95514371e-01+1.09697473e+00j\n   1.80028543e+00-4.12222661e-01j  9.92585972e-01-5.51134056e-01j\n   1.48549162e+00-9.58668165e-01j -1.35310130e+00+1.65228192e-01j\n   2.15248923e-02+1.08942896e-01j -6.35529856e-01+7.74240333e-02j\n   6.14459816e-01-7.27397825e-01j  4.07498672e-01-5.11194714e-01j\n   5.16800274e-01+6.30718189e-01j  3.27210905e+00+3.57044053e-01j\n   1.07780780e-01+1.71129134e-01j  4.56689751e-01-4.88436975e-01j\n   2.11916457e-01-4.92488469e-01j  8.73094512e-01-4.45228236e-01j\n  -2.73502278e-02-1.10318011e-01j  1.90203203e-01+2.34387735e-01j\n   3.37905884e-01-2.21860163e-01j  8.26653011e-02-3.70776181e-01j\n   1.84547679e-01-2.31339908e-01j  4.76123989e-01+7.39060888e-01j\n   5.22413269e-01-1.47998930e-01j  5.48356004e-01-3.70421223e-01j\n   7.08531097e-02-2.49665822e-01j  5.13361733e-02-2.15545639e-01j\n   4.12977356e-01-3.50626405e-01j -9.35275166e-01+3.80597125e-01j\n   3.60746426e-01-3.67753499e-01j -1.11972455e+01+1.65778175e+00j]\n [-8.04358502e-01+1.03882372e-01j -5.45981286e-01-4.59592836e-01j\n  -1.13026429e-01-3.84511318e-01j  2.40224014e-01-2.63680516e-01j\n   1.26532976e+00-1.29119302e-01j  4.90098728e-01-2.43019345e-02j\n   7.53767537e-01+1.65315464e-01j -3.42049162e-02+4.93750051e-01j\n   1.75476848e-01-3.77479276e-01j -8.38413369e-01-1.43084985e-01j\n  -1.81347473e-01+1.37918021e-01j  4.63809857e-02+4.17029607e-01j\n  -4.07734539e-01-2.29648271e-01j  3.42734259e+00-6.90451799e-03j\n  -2.42793169e-01-1.59691592e-01j -2.24246937e-01+6.62126996e-03j\n  -5.41916481e-01-4.75520598e-02j  1.48415154e+00+1.96863719e-01j\n  -7.37952952e-01-2.86551353e-01j -2.06638352e-01-1.34271655e-01j\n  -3.37588053e-01+7.01604376e-02j -4.22224935e-01-1.09914038e-01j\n  -6.98680651e-01-1.70306154e-01j -4.14414301e-01-1.90505491e-01j\n  -2.32846275e-01+2.59543902e-02j -2.27046691e-01-2.82273472e-02j\n  -4.97093576e-01-2.09038962e-01j -7.34948658e-01-1.68766378e-01j\n  -1.97969666e-01+1.71265835e-02j -7.35891484e-02+8.28255731e-03j\n  -2.51851407e-01+3.47177530e-02j  1.08409577e+00+1.84552576e+00j]\n [-9.15793719e-01+2.18176337e-01j -9.68908994e-01-7.94976474e-02j\n  -6.55208439e-01+5.11062323e-01j -3.67171549e-01+5.80088903e-01j\n  -8.70251123e-02+3.20176835e-01j -2.91287469e-01-1.08196552e-01j\n   1.35877647e-01+2.77422805e-01j  5.78543808e-02+6.83157025e-02j\n  -2.07576225e-01+5.36582788e-02j -2.02988705e+00-4.00684864e-01j\n  -4.65457558e-03-1.11053691e-01j  3.21549595e-01+1.78486352e-01j\n   1.00589037e+00+3.96437462e-01j  4.65504309e+00+6.60534228e-01j\n  -1.27836532e+00-2.68705528e-01j -6.28257467e-01-4.15396920e-01j\n  -4.24558514e-01-8.33810465e-02j  2.36541482e+00+4.40045110e-01j\n  -3.51608116e-01+2.36626518e-02j -8.78933562e-01-2.81574701e-01j\n  -7.12196407e-01-5.67339539e-01j -6.84453866e-01-3.73220229e-01j\n  -2.68188817e-01-6.83910106e-02j  1.02322393e+00+3.88091544e-01j\n  -7.75934871e-01-5.39093073e-01j -5.34878098e-01-4.17443998e-01j\n  -7.54780084e-01-2.98154583e-01j -2.88485550e-01-3.49907469e-02j\n  -6.73105161e-01-3.67519383e-01j  1.47388932e+00+3.74150151e-02j\n  -6.17757569e-01-4.52808285e-01j  3.36027338e+00+7.13878253e-01j]\n [-1.50490947e+00-5.71609782e-01j -1.90677500e-01-1.23068059e-01j\n   3.09913743e-01+1.76686155e-01j  1.27353155e-01-3.01245943e-01j\n   4.14636515e-01+1.42787105e-01j -2.17189155e-01-4.99402816e-02j\n   2.89421546e-01+5.50873493e-01j  8.39801755e-03-2.81172152e-01j\n   2.05348647e-01+1.20808784e-01j -1.52864953e+00-2.41826586e-01j\n  -3.04759875e-01-3.82600355e-02j  8.70988234e-01+4.49687786e-01j\n   1.59423064e+00+2.84073959e-01j  4.60982581e+00+8.15205656e-01j\n  -4.78090391e-01+1.21771755e-01j -8.15364181e-01-5.33740276e-02j\n  -5.96763006e-01-1.94314031e-01j  1.59245471e+00-1.41467509e-01j\n  -4.29126314e-01-1.77474458e-01j -4.75550471e-01+7.09039429e-02j\n  -7.12609523e-01+1.69028212e-03j -6.20795138e-01-1.05422099e-01j\n  -7.79994795e-01-2.55674105e-01j  1.38517097e+00+2.78623610e-01j\n  -6.02784189e-01+1.10598849e-01j -5.56071434e-01-2.42517114e-02j\n  -7.79782861e-01-3.32452760e-01j -6.93985016e-01-3.00423516e-01j\n  -5.63028959e-01-2.43760607e-03j  8.97985759e-01+2.10454783e-01j\n  -5.52124965e-01+3.65614024e-02j  9.65290427e-02-1.76312900e-01j]\n [-3.99191423e-01-6.54016128e-01j -5.29608458e-01+6.78774616e-02j\n   4.85172047e-01+1.07634596e-01j -1.29969078e+00-1.41672197e-01j\n   1.62783593e-01+9.18000227e-02j  2.65262642e-01-2.18315657e-01j\n   1.27205136e+00-2.13844449e-01j -7.03432081e-02+2.52969164e-01j\n  -5.83970293e-01+1.45106405e-01j -7.83432442e-01-2.96132035e-01j\n   6.09426256e-01-9.28063228e-02j  1.46928879e+00+1.63032292e-01j\n  -6.99760384e-01+2.98307579e-01j  2.68041252e+00+1.26245538e+00j\n  -2.59057625e-01-3.05452454e-02j -2.82776628e-01-1.79527633e-01j\n   5.15471084e-01+2.58104137e-03j  1.78627814e+00+1.88291065e-01j\n   1.63242341e-01-2.92771576e-02j -1.66098031e-01+4.02742742e-02j\n  -5.02365427e-01-1.57834705e-01j -4.34604127e-01-2.17301755e-01j\n   2.98562631e-01-7.71841043e-02j -6.79784261e-01+2.37355729e-01j\n  -4.72076172e-01-1.77707331e-01j -2.58605657e-01-1.62538100e-01j\n  -4.47709076e-01-2.13090405e-01j  3.13448330e-01-4.25517098e-02j\n  -2.94357643e-01-1.83200311e-01j -1.13929044e+00+3.18198673e-01j\n  -2.97089472e-01-1.03829630e-01j -4.21588195e-01+1.54911933e-02j]\n [ 9.69703778e-03-3.76210203e-01j  2.66003866e-01+2.76993655e-01j\n   6.67799114e-01+4.30140807e-01j  1.38454019e+00-4.49340027e-02j\n  -3.09369494e-01+4.80451070e-01j -9.73128452e-02+2.44050819e-01j\n  -4.08697830e-01+1.25320601e-01j  3.27931182e+00+1.38557551e+00j\n  -5.42849852e-01-2.76322754e-02j -9.83417612e-01-1.88020656e-01j\n  -2.86067385e-01+3.34611730e-01j  7.06586443e-01-9.72447613e-02j\n   1.32344246e+00-5.75976425e-02j  1.10613978e+00+7.52911123e-02j\n  -2.05085011e-01+9.87580502e-02j -5.85911916e-01+7.61729680e-02j\n  -4.01835168e-01+4.29394534e-02j  6.38915879e-01-2.48532708e-01j\n  -3.08809965e-01-1.07949070e-01j -1.02764858e-01+1.14041871e-01j\n  -3.82229581e-01-8.56407444e-02j -3.70701560e-01+2.03233907e-01j\n  -4.49393553e-01-1.84395749e-02j  1.22885814e+00+9.39844793e-02j\n  -1.20833339e-01-1.71317973e-01j -3.01842553e-01-4.45824148e-02j\n  -3.59144677e-01+7.93910543e-02j -4.92504312e-01+3.17718762e-02j\n  -2.81166863e-01-3.85586250e-02j -4.27505186e-01-6.04598081e-01j\n  -3.14567242e-01-6.86592030e-02j -2.87928392e+00-1.91281103e+00j]\n [ 3.45132476e-03-1.59913346e-01j  3.30147857e-01-1.59339288e-01j\n  -1.56721730e-01+3.41304667e-01j -7.00778314e-01+7.53096173e-01j\n  -6.54805115e-01+5.13337530e-01j -2.83870836e-01+4.67581093e-02j\n  -6.03312671e-01+7.57691263e-02j  1.31975392e+00+2.49702162e-01j\n  -4.54464074e-01+5.02112804e-01j -3.39009113e-02-3.54601907e-01j\n  -1.89050943e-02-2.48409673e-01j -5.55906202e-01+1.75149054e-01j\n   1.34473677e+00+3.83041044e-02j -1.50889680e+00+2.25867441e+00j\n  -3.23851039e-01+2.28934119e-02j  4.40449526e-02-2.35485440e-01j\n   5.13736996e-02-3.74912115e-01j -6.88673796e-01+1.00337069e+00j\n   1.44486415e-01-2.42548054e-01j -1.22860992e-01+8.68512914e-02j\n   3.35924625e-01-3.40696742e-01j  2.63651169e-01-6.72933197e-01j\n   1.36039928e-02-2.68759475e-01j  9.91530419e-01-1.49145017e-01j\n   6.50652812e-01-3.81807511e-01j  3.36573816e-01-2.61677218e-01j\n   3.49738705e-01-7.67346326e-01j  1.40881582e-01-2.58020292e-01j\n   3.31446817e-01-3.46717069e-01j  6.20751354e-01-3.31997300e-01j\n   3.15547930e-01-2.66973966e-01j -1.48135058e+00-2.46039596e-01j]]\n"
     ]
    }
   ],
   "source": [
    "# fft\n",
    "epoch = 1 #units: seconds\n",
    "maxf = 25 #units: Hz\n",
    "maxbin = maxf*epoch \n",
    "sr=2000 # sampling rate\n",
    "dataf = fft(trialdata,axis = 1) \n",
    "fcoef = dataf[:,1:maxbin+1,:]/(epoch*sr)/epoch\n",
    "ampdata=np.abs(fcoef)  # amplitude data (below 25 Hz)\n",
    "\n",
    "# Run graphical lasso for each frequency\n",
    "# pcorr,covmat_corr = partialcorrelation(ampdata,ncv=2)\n",
    "# pcorr is partial correlation (precision matrix)\n",
    "# covmat_corr is covariance matrix\n",
    "# This will take 8 minutes\n",
    "\n",
    "# Run graphical lasso for each frequency\n",
    "pcoh,covmat_coh = partialcoherence(fcoef,ncv=2)\n",
    "# pcoh is partial coherence (precision matrix)\n",
    "# covmat_coh is covariance matrix\n",
    "# This will take  minutes\n"
   ]
  },
  {
   "cell_type": "code",
   "execution_count": null,
   "metadata": {},
   "outputs": [],
   "source": []
  }
 ],
 "metadata": {
  "kernelspec": {
   "display_name": "eeg",
   "language": "python",
   "name": "python3"
  },
  "language_info": {
   "codemirror_mode": {
    "name": "ipython",
    "version": 3
   },
   "file_extension": ".py",
   "mimetype": "text/x-python",
   "name": "python",
   "nbconvert_exporter": "python",
   "pygments_lexer": "ipython3",
   "version": "3.9.13"
  },
  "orig_nbformat": 4
 },
 "nbformat": 4,
 "nbformat_minor": 2
}
